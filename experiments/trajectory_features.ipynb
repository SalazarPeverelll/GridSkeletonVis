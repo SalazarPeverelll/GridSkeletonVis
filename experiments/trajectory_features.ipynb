{
 "cells": [
  {
   "cell_type": "code",
   "execution_count": 1,
   "metadata": {},
   "outputs": [
    {
     "name": "stderr",
     "output_type": "stream",
     "text": [
      "2023-03-24 14:52:19.989138: I tensorflow/core/platform/cpu_feature_guard.cc:193] This TensorFlow binary is optimized with oneAPI Deep Neural Network Library (oneDNN) to use the following CPU instructions in performance-critical operations:  AVX2 AVX512F AVX512_VNNI FMA\n",
      "To enable them in other operations, rebuild TensorFlow with the appropriate compiler flags.\n",
      "2023-03-24 14:52:20.123843: I tensorflow/core/util/port.cc:104] oneDNN custom operations are on. You may see slightly different numerical results due to floating-point round-off errors from different computation orders. To turn them off, set the environment variable `TF_ENABLE_ONEDNN_OPTS=0`.\n",
      "2023-03-24 14:52:20.663057: W tensorflow/compiler/xla/stream_executor/platform/default/dso_loader.cc:64] Could not load dynamic library 'libnvinfer.so.7'; dlerror: libnvinfer.so.7: cannot open shared object file: No such file or directory\n",
      "2023-03-24 14:52:20.663099: W tensorflow/compiler/xla/stream_executor/platform/default/dso_loader.cc:64] Could not load dynamic library 'libnvinfer_plugin.so.7'; dlerror: libnvinfer_plugin.so.7: cannot open shared object file: No such file or directory\n",
      "2023-03-24 14:52:20.663103: W tensorflow/compiler/tf2tensorrt/utils/py_utils.cc:38] TF-TRT Warning: Cannot dlopen some TensorRT libraries. If you would like to use Nvidia GPU with TensorRT, please make sure the missing libraries mentioned above are installed properly.\n"
     ]
    }
   ],
   "source": [
    "import torch\n",
    "import sys\n",
    "import os\n",
    "import json\n",
    "import time\n",
    "import numpy as np\n",
    "\n",
    "sys.path.append(\"..\")\n",
    "from witsingleVis.SingleVisualizationModel import VisModel\n",
    "from witsingleVis.data import NormalDataProvider\n",
    "from witsingleVis.eval.evaluator import Evaluator\n",
    "from witsingleVis.projector import TimeVisProjector"
   ]
  },
  {
   "cell_type": "code",
   "execution_count": 2,
   "metadata": {},
   "outputs": [],
   "source": [
    "VIS_METHOD = \"TimeVis\" "
   ]
  },
  {
   "cell_type": "code",
   "execution_count": 3,
   "metadata": {},
   "outputs": [],
   "source": [
    "CONTENT_PATH =\"/home/xianglin/data/BadNet_MNIST_noise\"\n",
    "GPU_ID = \"0\""
   ]
  },
  {
   "cell_type": "code",
   "execution_count": 4,
   "metadata": {},
   "outputs": [],
   "source": [
    "sys.path.append(CONTENT_PATH)\n",
    "with open(os.path.join(CONTENT_PATH, \"config.json\"), \"r\") as f:\n",
    "    config = json.load(f)\n",
    "config = config[VIS_METHOD]"
   ]
  },
  {
   "cell_type": "code",
   "execution_count": 5,
   "metadata": {},
   "outputs": [
    {
     "name": "stdout",
     "output_type": "stream",
     "text": [
      "Finish initialization...\n"
     ]
    }
   ],
   "source": [
    "SETTING = config[\"SETTING\"]\n",
    "CLASSES = config[\"CLASSES\"]\n",
    "DATASET = config[\"DATASET\"]\n",
    "PREPROCESS = config[\"VISUALIZATION\"][\"PREPROCESS\"]\n",
    "# GPU_ID = config[\"GPU\"]\n",
    "\n",
    "# Training parameter (subject model)\n",
    "TRAINING_PARAMETER = config[\"TRAINING\"]\n",
    "NET = TRAINING_PARAMETER[\"NET\"]\n",
    "LEN = TRAINING_PARAMETER[\"train_num\"]\n",
    "EPOCH_START = config[\"EPOCH_START\"]\n",
    "EPOCH_END = config[\"EPOCH_END\"]\n",
    "EPOCH_PERIOD = config[\"EPOCH_PERIOD\"]\n",
    "EPOCH_NAME = config[\"EPOCH_NAME\"]\n",
    "\n",
    "# Training parameter (visualization model)\n",
    "VISUALIZATION_PARAMETER = config[\"VISUALIZATION\"]\n",
    "ENCODER_DIMS = VISUALIZATION_PARAMETER[\"ENCODER_DIMS\"]\n",
    "DECODER_DIMS = VISUALIZATION_PARAMETER[\"DECODER_DIMS\"]\n",
    "\n",
    "VIS_MODEL_NAME = VISUALIZATION_PARAMETER[\"VIS_MODEL_NAME\"]\n",
    "EVALUATION_NAME = VISUALIZATION_PARAMETER[\"EVALUATION_NAME\"]\n",
    "\n",
    "# Define hyperparameters\n",
    "DEVICE = torch.device(\"cuda:{}\".format(GPU_ID) if torch.cuda.is_available() else \"cpu\")\n",
    "\n",
    "import Model.model as subject_model\n",
    "net = eval(\"subject_model.{}()\".format(NET))\n",
    "\n",
    "# Define data_provider\n",
    "data_provider = NormalDataProvider(CONTENT_PATH, net, EPOCH_START, EPOCH_END, EPOCH_PERIOD, epoch_name=EPOCH_NAME, device=DEVICE, classes=CLASSES,verbose=1)"
   ]
  },
  {
   "cell_type": "code",
   "execution_count": 6,
   "metadata": {},
   "outputs": [],
   "source": [
    "model = VisModel(ENCODER_DIMS, DECODER_DIMS)\n",
    "projector = TimeVisProjector(vis_model=model, content_path=CONTENT_PATH, vis_model_name=VIS_MODEL_NAME, device=DEVICE)"
   ]
  },
  {
   "cell_type": "code",
   "execution_count": 7,
   "metadata": {},
   "outputs": [],
   "source": [
    "from witsingleVis.training_dynamics import TD\n",
    "td = TD(data_provider, projector)"
   ]
  },
  {
   "cell_type": "code",
   "execution_count": 9,
   "metadata": {},
   "outputs": [
    {
     "name": "stderr",
     "output_type": "stream",
     "text": [
      "100%|██████████| 300/300 [00:02<00:00, 128.50it/s]\n",
      "100%|██████████| 300/300 [00:00<00:00, 430.09it/s]\n",
      "100%|██████████| 300/300 [00:00<00:00, 442.96it/s]\n",
      "100%|██████████| 300/300 [00:00<00:00, 436.46it/s]\n",
      "100%|██████████| 300/300 [00:00<00:00, 429.67it/s]\n",
      "100%|██████████| 300/300 [00:00<00:00, 446.43it/s]\n",
      "100%|██████████| 300/300 [00:00<00:00, 436.05it/s]\n",
      "100%|██████████| 300/300 [00:00<00:00, 431.25it/s]\n",
      "100%|██████████| 300/300 [00:00<00:00, 444.73it/s]\n",
      "100%|██████████| 300/300 [00:00<00:00, 431.90it/s]\n",
      "100%|██████████| 300/300 [00:00<00:00, 429.71it/s]\n",
      "100%|██████████| 300/300 [00:00<00:00, 440.80it/s]\n",
      "100%|██████████| 300/300 [00:00<00:00, 434.20it/s]\n",
      "100%|██████████| 300/300 [00:00<00:00, 429.40it/s]\n",
      "100%|██████████| 300/300 [00:00<00:00, 439.87it/s]\n",
      "100%|██████████| 300/300 [00:00<00:00, 431.14it/s]\n",
      "100%|██████████| 300/300 [00:00<00:00, 430.63it/s]\n",
      "100%|██████████| 300/300 [00:00<00:00, 443.87it/s]\n",
      "100%|██████████| 300/300 [00:00<00:00, 438.14it/s]\n",
      "100%|██████████| 300/300 [00:00<00:00, 430.19it/s]\n"
     ]
    }
   ],
   "source": [
    "losses = td.loss_dynamics()"
   ]
  },
  {
   "cell_type": "code",
   "execution_count": 12,
   "metadata": {},
   "outputs": [],
   "source": [
    "import json\n",
    "with open(\"/home/xianglin/data/BadNet_MNIST_noise/noisy_label.json\", \"r\") as f: \n",
    "    noise_labels = np.array(json.load(f))\n",
    "with open(\"/home/xianglin/data/BadNet_MNIST_noise/clean_label.json\", \"r\") as f: \n",
    "    clean_labels = np.array(json.load(f))\n",
    "\n",
    "idxs = np.argwhere(noise_labels!=clean_labels).squeeze()"
   ]
  },
  {
   "cell_type": "code",
   "execution_count": 13,
   "metadata": {},
   "outputs": [],
   "source": [
    "td.show_ground_truth(loss, idxs)"
   ]
  }
 ],
 "metadata": {
  "kernelspec": {
   "display_name": "sv",
   "language": "python",
   "name": "python3"
  },
  "language_info": {
   "codemirror_mode": {
    "name": "ipython",
    "version": 3
   },
   "file_extension": ".py",
   "mimetype": "text/x-python",
   "name": "python",
   "nbconvert_exporter": "python",
   "pygments_lexer": "ipython3",
   "version": "3.7.13"
  },
  "orig_nbformat": 4
 },
 "nbformat": 4,
 "nbformat_minor": 2
}
